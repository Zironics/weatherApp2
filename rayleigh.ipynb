{
  "nbformat": 4,
  "nbformat_minor": 0,
  "metadata": {
    "colab": {
      "provenance": [],
      "authorship_tag": "ABX9TyNqkOl3crLdnHqg6/9Few24",
      "include_colab_link": true
    },
    "kernelspec": {
      "name": "python3",
      "display_name": "Python 3"
    },
    "language_info": {
      "name": "python"
    },
    "gpuClass": "standard"
  },
  "cells": [
    {
      "cell_type": "markdown",
      "metadata": {
        "id": "view-in-github",
        "colab_type": "text"
      },
      "source": [
        "<a href=\"https://colab.research.google.com/github/Zironics/weatherApp2/blob/main/rayleigh.ipynb\" target=\"_parent\"><img src=\"https://colab.research.google.com/assets/colab-badge.svg\" alt=\"Open In Colab\"/></a>"
      ]
    },
    {
      "cell_type": "code",
      "execution_count": null,
      "metadata": {
        "id": "uOT8jy2luCwv"
      },
      "outputs": [],
      "source": [
        "import numpy as np"
      ]
    },
    {
      "cell_type": "code",
      "source": [
        "def rayleigh_quot(A,X):\n",
        "    D = X.T @ A @ X\n",
        "    Q = norme_euclid(X)**2\n",
        "    return D/Q"
      ],
      "metadata": {
        "id": "WotoxWLcuHxb"
      },
      "execution_count": null,
      "outputs": []
    },
    {
      "cell_type": "code",
      "source": [
        "def norme_euclid(M):\n",
        "    M = np.array(M)\n",
        "    return np.sqrt(np.max(np.linalg.eig(M@M.T)[0]))"
      ],
      "metadata": {
        "id": "Z31MvEqWuNBd"
      },
      "execution_count": null,
      "outputs": []
    },
    {
      "cell_type": "code",
      "source": [
        "def X_iter(A,X):\n",
        "    D = A @ X\n",
        "    Q = norme_euclid(A @ X)\n",
        "    return (D/Q).reshape(3,1)"
      ],
      "metadata": {
        "id": "DlWphZgquO1P"
      },
      "execution_count": null,
      "outputs": []
    },
    {
      "cell_type": "code",
      "source": [
        "def is_invert(M):\n",
        "    print(M)\n",
        "    print(f\"determinant : {np.linalg.det(M)}\")\n",
        "    if np.linalg.det(M) == 0: \n",
        "        return False\n",
        "    return True"
      ],
      "metadata": {
        "id": "ubQIJg2i3cCG"
      },
      "execution_count": null,
      "outputs": []
    },
    {
      "cell_type": "code",
      "source": [
        "def rayleigh_iter(A,B):\n",
        "    X = B\n",
        "    n = 0\n",
        "    while(True):\n",
        "        n += 1;\n",
        "        print(n)\n",
        "        v = rayleigh_quot(A,X)[0]\n",
        "        Y = A-v*np.identity(A.shape[0])\n",
        "        if not is_invert(Y):\n",
        "            return v, Y\n",
        "        M = np.linalg.inv(Y)\n",
        "        X = X_iter(M,X)"
      ],
      "metadata": {
        "id": "nomwvsGR3nXZ"
      },
      "execution_count": null,
      "outputs": []
    },
    {
      "cell_type": "code",
      "source": [
        "A = np.array([[1,2,3],[1,2,1],[3,2,1]])\n",
        "B = np.array([[1],[1],[1]])\n",
        "v,Y = rayleigh_iter(A,B)"
      ],
      "metadata": {
        "colab": {
          "base_uri": "https://localhost:8080/"
        },
        "id": "LOn1mZzl6RbE",
        "outputId": "3fc2f572-958f-4b6b-8b0f-b20e5a318009"
      },
      "execution_count": null,
      "outputs": [
        {
          "output_type": "stream",
          "name": "stdout",
          "text": [
            "1\n",
            "[[-4.33333333  2.          3.        ]\n",
            " [ 1.         -3.33333333  1.        ]\n",
            " [ 3.          2.         -4.33333333]]\n",
            "determinant : -3.2592592592592733\n",
            "2\n",
            "[[-4.24183007  2.          3.        ]\n",
            " [ 1.         -3.24183007  1.        ]\n",
            " [ 3.          2.         -4.24183007]]\n",
            "determinant : -0.1868540031388739\n",
            "3\n",
            "[[-4.23607548  2.          3.        ]\n",
            " [ 1.         -3.23607548  1.        ]\n",
            " [ 3.          2.         -4.23607548]]\n",
            "determinant : -0.000242798325391703\n",
            "4\n",
            "[[-4.23606798  2.          3.        ]\n",
            " [ 1.         -3.23606798  1.        ]\n",
            " [ 3.          2.         -4.23606798]]\n",
            "determinant : -4.074474105400875e-10\n",
            "5\n",
            "[[-4.23606798+0.j  2.        +0.j  3.        +0.j]\n",
            " [ 1.        +0.j -3.23606798+0.j  1.        +0.j]\n",
            " [ 3.        +0.j  2.        +0.j -4.23606798+0.j]]\n",
            "determinant : (-3.213459710549226e-14+0j)\n",
            "6\n",
            "[[-4.23606798+0.j  2.        +0.j  3.        +0.j]\n",
            " [ 1.        +0.j -3.23606798+0.j  1.        +0.j]\n",
            " [ 3.        +0.j  2.        +0.j -4.23606798+0.j]]\n",
            "determinant : 0j\n"
          ]
        }
      ]
    },
    {
      "cell_type": "code",
      "source": [],
      "metadata": {
        "colab": {
          "base_uri": "https://localhost:8080/"
        },
        "id": "izJDtTfs6jAv",
        "outputId": "2a8a4ed8-845b-47df-bc1f-14f037ff1b90"
      },
      "execution_count": null,
      "outputs": [
        {
          "output_type": "execute_result",
          "data": {
            "text/plain": [
              "array([[-4.23606798+0.j,  2.        +0.j,  3.        +0.j],\n",
              "       [ 1.        +0.j, -3.23606798+0.j,  1.        +0.j],\n",
              "       [ 3.        +0.j,  2.        +0.j, -4.23606798+0.j]])"
            ]
          },
          "metadata": {},
          "execution_count": 9
        }
      ]
    },
    {
      "cell_type": "code",
      "source": [
        "print(v)"
      ],
      "metadata": {
        "colab": {
          "base_uri": "https://localhost:8080/"
        },
        "id": "xBOjdBRb67mw",
        "outputId": "fc499635-4604-46e7-9b98-d81250539431"
      },
      "execution_count": null,
      "outputs": [
        {
          "output_type": "stream",
          "name": "stdout",
          "text": [
            "(5.23606797749979+0j)\n"
          ]
        }
      ]
    },
    {
      "cell_type": "code",
      "source": [
        "\n",
        "M = np.array([[-4.23606798+0.j,  2.        +0.j,  3.        +0.j],\n",
        "       [ 1.        +0.j, -3.23606798+0.j,  1.        +0.j],\n",
        "       [ 3.        +0.j,  2.        +0.j, -4.23606798+0.j]])\n",
        " \n",
        "d = np.linalg.det(M)\n",
        "print(d)\n",
        "print(np.linalg.det(M))"
      ],
      "metadata": {
        "id": "ekve4QtuB2t1",
        "colab": {
          "base_uri": "https://localhost:8080/"
        },
        "outputId": "82ac8872-84ea-42a5-c94e-dfb5b3442280"
      },
      "execution_count": null,
      "outputs": [
        {
          "output_type": "stream",
          "name": "stdout",
          "text": [
            "(-8.090849183362344e-08+0j)\n",
            "(-8.090849183362344e-08+0j)\n"
          ]
        }
      ]
    },
    {
      "cell_type": "code",
      "source": [
        "is_invert(M)"
      ],
      "metadata": {
        "colab": {
          "base_uri": "https://localhost:8080/"
        },
        "id": "sC37vulDbdix",
        "outputId": "e4e5aeb9-fbe5-4def-e357-80f4ab38bca9"
      },
      "execution_count": null,
      "outputs": [
        {
          "output_type": "stream",
          "name": "stdout",
          "text": [
            "(-8.090849183362344e-08+0j)\n"
          ]
        },
        {
          "output_type": "execute_result",
          "data": {
            "text/plain": [
              "True"
            ]
          },
          "metadata": {},
          "execution_count": 14
        }
      ]
    },
    {
      "cell_type": "code",
      "source": [],
      "metadata": {
        "id": "UsaqkHV3b3LA"
      },
      "execution_count": null,
      "outputs": []
    }
  ]
}